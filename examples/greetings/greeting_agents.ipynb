{
 "cells": [
  {
   "cell_type": "code",
   "execution_count": 1,
   "metadata": {},
   "outputs": [],
   "source": [
    "from oef.agents import Agent\n",
    "import asyncio\n",
    "from typing import List\n",
    "\n",
    "from oef.agents import Agent\n",
    "from oef.proxy import OEFNetworkProxy\n",
    "from oef.query import Query\n",
    "from oef.schema import DataModel, Description"
   ]
  },
  {
   "cell_type": "code",
   "execution_count": 2,
   "metadata": {},
   "outputs": [],
   "source": [
    "class GreetingsAgent(Agent):\n",
    "    \"\"\"A class that implements the greeting agent.\"\"\"\n",
    "\n",
    "    def on_message(self, origin: str, dialogue_id: int, content: bytes):\n",
    "        print(\"[{}]: Received message: origin={}, dialogue_id={}, content={}\"\n",
    "              .format(self.public_key, origin, dialogue_id, content))\n",
    "        if content == b\"hello\":\n",
    "            print(\"[{}]: Sending greetings message to {}\".format(self.public_key, origin))\n",
    "            self.send_message(dialogue_id, origin, b\"greetings\")\n",
    "            self.stop()\n",
    "        if content == b\"greetings\":\n",
    "            print(\"[{}]: Received greetings message from {}\".format(self.public_key, origin))\n",
    "            self.stop()\n",
    "\n",
    "    def on_search_result(self, search_id: int, agents: List[str]):\n",
    "        if len(agents) > 0:\n",
    "            print(\"[{}]: Agents found: {}\".format(self.public_key, agents))\n",
    "            for a in agents:\n",
    "                self.send_message(0, a, b\"hello\")\n",
    "        else:\n",
    "            print(\"[{}]: No agent found.\".format(self.public_key))\n"
   ]
  },
  {
   "cell_type": "code",
   "execution_count": 3,
   "metadata": {},
   "outputs": [],
   "source": [
    "# create agents\n",
    "\n",
    "client_proxy = OEFNetworkProxy(\"greetings_client\", oef_addr=\"127.0.0.1\", port=3333)\n",
    "server_proxy = OEFNetworkProxy(\"greetings_server\", oef_addr=\"127.0.0.1\", port=3333)\n",
    "client_agent = GreetingsAgent(client_proxy)\n",
    "server_agent = GreetingsAgent(server_proxy)"
   ]
  },
  {
   "cell_type": "code",
   "execution_count": 4,
   "metadata": {},
   "outputs": [],
   "source": [
    "# connect the agents to the OEF\n",
    "await client_agent.async_connect()\n",
    "await server_agent.async_connect()"
   ]
  },
  {
   "cell_type": "code",
   "execution_count": 5,
   "metadata": {},
   "outputs": [],
   "source": [
    "# register the greetings service agent on the OEF\n",
    "greetings_model = DataModel(\"greetings\", [], \"Greetings service.\")\n",
    "greetings_description = Description({}, greetings_model)\n",
    "server_agent.register_service(greetings_description)"
   ]
  },
  {
   "cell_type": "code",
   "execution_count": 6,
   "metadata": {},
   "outputs": [
    {
     "name": "stdout",
     "output_type": "stream",
     "text": [
      "[greetings_client]: Search for 'greetings' services.\n"
     ]
    }
   ],
   "source": [
    "# the client executes the search for greetings services\n",
    "query = Query([], greetings_model)\n",
    "\n",
    "print(\"[{}]: Search for 'greetings' services.\".format(client_agent.public_key))\n",
    "client_agent.search_services(0, query)\n"
   ]
  },
  {
   "cell_type": "code",
   "execution_count": 7,
   "metadata": {},
   "outputs": [
    {
     "name": "stdout",
     "output_type": "stream",
     "text": [
      "[greetings_client]: Agents found: ['greetings_server']\n[greetings_server]: Received message: origin=greetings_client, dialogue_id=0, content=b'hello'\n[greetings_server]: Sending greetings message to greetings_client\n[greetings_client]: Received message: origin=greetings_server, dialogue_id=0, content=b'greetings'\n[greetings_client]: Received greetings message from greetings_server\n"
     ]
    }
   ],
   "source": [
    "# run the agents\n",
    "try:\n",
    "    await asyncio.gather(\n",
    "                client_agent.async_run(),\n",
    "                server_agent.async_run())\n",
    "finally:\n",
    "    # if something bad happens, stop the agents \n",
    "    client_agent.stop()\n",
    "    server_agent.stop()\n",
    "\n"
   ]
  },
  {
   "cell_type": "code",
   "execution_count": null,
   "metadata": {},
   "outputs": [],
   "source": []
  }
 ],
 "metadata": {
  "kernelspec": {
   "display_name": "Python 3",
   "language": "python",
   "name": "python3"
  },
  "language_info": {
   "codemirror_mode": {
    "name": "ipython",
    "version": 3
   },
   "file_extension": ".py",
   "mimetype": "text/x-python",
   "name": "python",
   "nbconvert_exporter": "python",
   "pygments_lexer": "ipython3",
   "version": "3.6.7"
  }
 },
 "nbformat": 4,
 "nbformat_minor": 2
}
